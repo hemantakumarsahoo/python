{
 "cells": [
  {
   "cell_type": "code",
   "execution_count": null,
   "metadata": {},
   "outputs": [
    {
     "name": "stdout",
     "output_type": "stream",
     "text": [
      "[10, 20, 30, 40, 50]\n",
      "10\n",
      "20\n",
      "30\n",
      "50\n",
      "40\n"
     ]
    }
   ],
   "source": [
    "# \n",
    "# defining and declaring and array\n",
    "arr=[10,20,30,40,50]\n",
    "print(arr)\n",
    "# accesing array elements\n",
    "print(arr[0])\n",
    "print(arr[1])\n",
    "print(arr[2])\n",
    "print(arr[-1])#negative indexing\n",
    "print(arr[-2])"
   ]
  },
  {
   "cell_type": "code",
   "execution_count": null,
   "metadata": {},
   "outputs": [
    {
     "name": "stdout",
     "output_type": "stream",
     "text": [
      "['coke', 'apple', 'microsoft', 'toyato']\n",
      "4\n",
      "['coke', 'apple', 'microsoft', 'toyato', 'bmw']\n"
     ]
    }
   ],
   "source": [
    "brands=[\"coke\",\"apple\",\"microsoft\",\"toyato\"]\n",
    "print(brands)\n",
    "# finding the length of the array\n",
    "num_brands=len(brands)\n",
    "print(num_brands)\n",
    "# adding an element to an array using append\n",
    "brands.append(\"bmw\")\n",
    "print(brands)\n"
   ]
  },
  {
   "cell_type": "code",
   "execution_count": 7,
   "metadata": {},
   "outputs": [
    {
     "name": "stdout",
     "output_type": "stream",
     "text": [
      "['coke', 'apple', 'microsoft', 'toyato', 'audi', 'samsung']\n",
      "['coke', 'apple', 'toyato', 'audi', 'samsung']\n",
      "['apple', 'toyato', 'audi', 'samsung']\n",
      "['apple', 'toyato', 'audi']\n"
     ]
    }
   ],
   "source": [
    "brands=[\"coke\",\"apple\",\"microsoft\",\"toyato\",\"audi\",\"samsung\"]\n",
    "print(brands)\n",
    "del brands[2]\n",
    "print(brands)\n",
    "brands.remove(\"coke\")\n",
    "print(brands)\n",
    "brands.pop(3)\n",
    "print(brands)"
   ]
  },
  {
   "cell_type": "code",
   "execution_count": 9,
   "metadata": {},
   "outputs": [
    {
     "name": "stdout",
     "output_type": "stream",
     "text": [
      "['apple', 'pineple', 'kiwi', 'mango', 'grapes']\n",
      "['apple', 'pineple', 'kiwi', 'mango', 'gauva']\n"
     ]
    }
   ],
   "source": [
    "# modifying element of an array using indexing\n",
    "fruits=[\"apple\",\"banana\",\"kiwi\",\"mango\",\"grapes\"]\n",
    "fruits[1]=\"pineple\"\n",
    "print(fruits)\n",
    "fruits[-1]=\"gauva\"\n",
    "print(fruits)"
   ]
  },
  {
   "cell_type": "code",
   "execution_count": 10,
   "metadata": {},
   "outputs": [
    {
     "name": "stdout",
     "output_type": "stream",
     "text": [
      "[1, 2, 3, 4, 4, 5, 6, 7]\n"
     ]
    }
   ],
   "source": [
    "# concatening two arrays using + operator\n",
    "concat=[1,2,3,4]\n",
    "concat+=[4,5,6,7]\n",
    "print(concat)"
   ]
  },
  {
   "cell_type": "code",
   "execution_count": 11,
   "metadata": {},
   "outputs": [
    {
     "name": "stdout",
     "output_type": "stream",
     "text": [
      "['a', 'a', 'a', 'a', 'a']\n"
     ]
    }
   ],
   "source": [
    "# repeating element in array\n",
    "repeat=[\"a\"]\n",
    "repeat=repeat*5\n",
    "print(repeat)"
   ]
  },
  {
   "cell_type": "code",
   "execution_count": 12,
   "metadata": {},
   "outputs": [
    {
     "name": "stdout",
     "output_type": "stream",
     "text": [
      "['banana', 'kiwi', 'mango']\n",
      "['apple', 'banana', 'kiwi']\n",
      "['mango', 'grapes', 'pinaple', 'watemelon']\n",
      "['grapes', 'pinaple']\n"
     ]
    }
   ],
   "source": [
    "# slicing an array\n",
    "fruits=[\"apple\",\"banana\",\"kiwi\",\"mango\",\"grapes\" ,\"pinaple\",\"watemelon\"]\n",
    "print(fruits[1:4])\n",
    "print(fruits[:3])\n",
    "print(fruits[-4:])\n",
    "print(fruits[-3:-1])"
   ]
  },
  {
   "cell_type": "code",
   "execution_count": 14,
   "metadata": {},
   "outputs": [
    {
     "name": "stdout",
     "output_type": "stream",
     "text": [
      "[[1, 2], [3, 4], [5, 6], [7, 8]]\n",
      "[1, 2]\n",
      "[7, 8]\n",
      "2\n",
      "7\n"
     ]
    }
   ],
   "source": [
    "# declaring and defining  multodimensional array\n",
    "mult=[[1,2],[3,4],[5,6],[7,8]]\n",
    "print(mult)\n",
    "print(mult[0])\n",
    "print(mult[3])\n",
    "print(mult[0][1])\n",
    "print(mult[3][0])\n"
   ]
  }
 ],
 "metadata": {
  "kernelspec": {
   "display_name": "Python 3",
   "language": "python",
   "name": "python3"
  },
  "language_info": {
   "codemirror_mode": {
    "name": "ipython",
    "version": 3
   },
   "file_extension": ".py",
   "mimetype": "text/x-python",
   "name": "python",
   "nbconvert_exporter": "python",
   "pygments_lexer": "ipython3",
   "version": "3.11.4"
  }
 },
 "nbformat": 4,
 "nbformat_minor": 2
}
