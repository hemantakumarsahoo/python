{
 "cells": [
  {
   "cell_type": "code",
   "execution_count": null,
   "metadata": {},
   "outputs": [],
   "source": [
    "r   w"
   ]
  },
  {
   "cell_type": "code",
   "execution_count": 4,
   "metadata": {},
   "outputs": [
    {
     "name": "stdout",
     "output_type": "stream",
     "text": [
      "Number  to be guessed: 7\n",
      "Number Gaussed : 1\n",
      "Number Gaussed : 2\n",
      "Number Gaussed : 3\n",
      "Number Gaussed : 4\n",
      "Number Gaussed : 5\n",
      "Number Gaussed : 6\n",
      "Number Gaussed : 7\n",
      "random number has been gaussed sucessufully\n",
      "end of the progam\n"
     ]
    }
   ],
   "source": [
    "import random as r\n",
    "rand_num=r.randrange(1,20)#generate a random number between  1 and 29\n",
    "print(\"Number  to be guessed:\",rand_num)\n",
    "i=1\n",
    "while True:\n",
    "    print(\"Number Gaussed :\" ,i)\n",
    "    if(i==rand_num):# if the number gaussed is correct the this block ill be excecuted\n",
    "        print(\"random number has been gaussed sucessufully\")\n",
    "        break#break statement stops and exists from the loop\n",
    "    i+=1\n",
    "print(\"end of the program\")"
   ]
  },
  {
   "cell_type": "markdown",
   "metadata": {},
   "source": [
    "continue"
   ]
  },
  {
   "cell_type": "code",
   "execution_count": 1,
   "metadata": {},
   "outputs": [
    {
     "ename": "IndentationError",
     "evalue": "expected an indented block after 'if' statement on line 2 (2225923452.py, line 4)",
     "output_type": "error",
     "traceback": [
      "\u001b[1;36m  Cell \u001b[1;32mIn[1], line 4\u001b[1;36m\u001b[0m\n\u001b[1;33m    print(i)\u001b[0m\n\u001b[1;37m    ^\u001b[0m\n\u001b[1;31mIndentationError\u001b[0m\u001b[1;31m:\u001b[0m expected an indented block after 'if' statement on line 2\n"
     ]
    }
   ],
   "source": [
    "for i in range(1,20):\n",
    "    if(i%2 !=0):\n",
    "        continue\n",
    "    print(i)"
   ]
  }
 ],
 "metadata": {
  "kernelspec": {
   "display_name": "Python 3",
   "language": "python",
   "name": "python3"
  },
  "language_info": {
   "codemirror_mode": {
    "name": "ipython",
    "version": 3
   },
   "file_extension": ".py",
   "mimetype": "text/x-python",
   "name": "python",
   "nbconvert_exporter": "python",
   "pygments_lexer": "ipython3",
   "version": "3.11.4"
  }
 },
 "nbformat": 4,
 "nbformat_minor": 2
}
