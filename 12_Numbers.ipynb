{
 "cells": [
  {
   "cell_type": "code",
   "execution_count": null,
   "metadata": {},
   "outputs": [
    {
     "name": "stdout",
     "output_type": "stream",
     "text": [
      "<class 'int'>\n",
      "True\n",
      "False\n",
      "False\n"
     ]
    }
   ],
   "source": [
    "value=100\n",
    "print(type(value))\n",
    "print(isinstance(value,int))\n",
    "print(isinstance(value,float))\n",
    "print(isinstance(value,complex))\n",
    "# is insttance is always return boolean\n"
   ]
  },
  {
   "cell_type": "code",
   "execution_count": 3,
   "metadata": {},
   "outputs": [
    {
     "name": "stdout",
     "output_type": "stream",
     "text": [
      "<class 'int'>\n",
      "False\n",
      "True\n",
      "False\n"
     ]
    }
   ],
   "source": [
    "value1=100.23\n",
    "print(type(value))\n",
    "print(isinstance(value1,int))\n",
    "print(isinstance(value1,float))\n",
    "print(isinstance(value1,complex))"
   ]
  },
  {
   "cell_type": "code",
   "execution_count": 4,
   "metadata": {},
   "outputs": [
    {
     "name": "stdout",
     "output_type": "stream",
     "text": [
      "<class 'int'>\n",
      "False\n",
      "False\n",
      "True\n"
     ]
    }
   ],
   "source": [
    "value1=50+6j\n",
    "print(type(value))\n",
    "print(isinstance(value1,int))\n",
    "print(isinstance(value1,float))\n",
    "print(isinstance(value1,complex))"
   ]
  },
  {
   "cell_type": "code",
   "execution_count": 7,
   "metadata": {},
   "outputs": [
    {
     "name": "stdout",
     "output_type": "stream",
     "text": [
      "13\n",
      "171\n",
      "19\n"
     ]
    }
   ],
   "source": [
    "print(0b1101)\n",
    "print(0xab)\n",
    "print(0o23)"
   ]
  },
  {
   "cell_type": "code",
   "execution_count": 8,
   "metadata": {},
   "outputs": [
    {
     "name": "stdout",
     "output_type": "stream",
     "text": [
      "43.4\n"
     ]
    }
   ],
   "source": [
    "print(10+33.4)"
   ]
  },
  {
   "cell_type": "code",
   "execution_count": 10,
   "metadata": {},
   "outputs": [
    {
     "name": "stdout",
     "output_type": "stream",
     "text": [
      "10\n",
      "-20\n",
      "10.0\n"
     ]
    }
   ],
   "source": [
    "# Type conversion\n",
    "print(int(10.4))\n",
    "print(int(-20.99))\n",
    "print(float(10))\n"
   ]
  },
  {
   "cell_type": "code",
   "execution_count": 13,
   "metadata": {},
   "outputs": [
    {
     "name": "stdout",
     "output_type": "stream",
     "text": [
      "0.4\n",
      "3.0\n",
      "0.3\n",
      "0.02\n"
     ]
    }
   ],
   "source": [
    "# python decimal\n",
    "data1=0.1+0.3\n",
    "print(data1)\n",
    "data1=1.2*2.50\n",
    "print(data1)\n",
    "\n",
    "from decimal import Decimal as D\n",
    "print(D('0.1')+D('0.2'))\n",
    "print(D('0.1')*D('0.2'))\n"
   ]
  },
  {
   "cell_type": "code",
   "execution_count": 15,
   "metadata": {},
   "outputs": [
    {
     "name": "stdout",
     "output_type": "stream",
     "text": [
      "1/5\n",
      "5\n",
      "3/2\n"
     ]
    }
   ],
   "source": [
    "\n",
    "# Python fraction\n",
    "from fractions import Fraction as f\n",
    "print(f(1,5))\n",
    "print(f(5))\n",
    "print(f(1.5))\n",
    "\n",
    "\n"
   ]
  },
  {
   "cell_type": "code",
   "execution_count": null,
   "metadata": {},
   "outputs": [
    {
     "name": "stdout",
     "output_type": "stream",
     "text": [
      "3.141592653589793\n",
      "-0.8390715290764524\n",
      "2.302585092994046\n",
      "1.0\n",
      "22026.465794806718\n",
      "3628800\n",
      "11013.232874703393\n",
      "12.34\n"
     ]
    }
   ],
   "source": [
    "# python math mpdule\n",
    "import math \n",
    "print(math.pi )\n",
    "print (math.cos(10))\n",
    "print (math.log(10))\n",
    "print (math.log10(10))\n",
    "\n",
    "print (math.exp(10))\n",
    "print (math.factorial(10))\n",
    "print (math.sinh(10))\n",
    "print(abs(-12.34))\n",
    "\n"
   ]
  },
  {
   "cell_type": "code",
   "execution_count": null,
   "metadata": {},
   "outputs": [
    {
     "name": "stdout",
     "output_type": "stream",
     "text": [
      "Random number-> 12\n",
      "Random number-> 13\n",
      "Random number-> 12\n",
      "Random number-> 10\n",
      "monday\n",
      "['sunday', 'monday', 'tuesday', 'wedness day', 'thursday', 'friday', 'saturday']\n",
      "['sunday', 'wedness day', 'saturday', 'thursday', 'tuesday', 'monday', 'friday']\n",
      "0.8166021851860211\n"
     ]
    }
   ],
   "source": [
    "# python random module\n",
    "import random \n",
    "print(\"Random number->\",random.randrange(5,15))\n",
    "print(\"Random number->\",random.randrange(5,15))\n",
    "print(\"Random number->\",random.randrange(5,15))\n",
    "print(\"Random number->\",random.randrange(5,15))\n",
    "\n",
    "day=['sunday','monday','tuesday','wedness day','thursday','friday','saturday']\n",
    "\n",
    "print(random.choice(day))\n",
    "print(day)\n",
    "# shuffle is use tgo different arrangement\n",
    "random.shuffle(day)\n",
    "print(day)\n",
    "# print random element\n",
    "print(random.random())"
   ]
  },
  {
   "cell_type": "code",
   "execution_count": null,
   "metadata": {},
   "outputs": [],
   "source": []
  }
 ],
 "metadata": {
  "kernelspec": {
   "display_name": "Python 3",
   "language": "python",
   "name": "python3"
  },
  "language_info": {
   "codemirror_mode": {
    "name": "ipython",
    "version": 3
   },
   "file_extension": ".py",
   "mimetype": "text/x-python",
   "name": "python",
   "nbconvert_exporter": "python",
   "pygments_lexer": "ipython3",
   "version": "3.11.4"
  }
 },
 "nbformat": 4,
 "nbformat_minor": 2
}
