{
 "cells": [
  {
   "cell_type": "code",
   "execution_count": 2,
   "metadata": {},
   "outputs": [
    {
     "name": "stdout",
     "output_type": "stream",
     "text": [
      "124.23\n",
      "data type of num_int is: <class 'int'>\n",
      "data type of num_flo is: <class 'float'>\n",
      "data type of new_num is: <class 'float'>\n"
     ]
    }
   ],
   "source": [
    "# implicity type conversion\n",
    "num_int=123\n",
    "num_flo=1.23\n",
    "new_num=num_int+num_flo\n",
    "print(new_num)\n",
    "print(\"data type of num_int is:\",type(num_int))\n",
    "print(\"data type of num_flo is:\",type(num_flo))\n",
    "print(\"data type of new_num is:\",type(new_num))"
   ]
  },
  {
   "cell_type": "code",
   "execution_count": null,
   "metadata": {},
   "outputs": [
    {
     "name": "stdout",
     "output_type": "stream",
     "text": [
      "data type of num_int1 is: <class 'int'>\n",
      "data type of num_str is: <class 'str'>\n"
     ]
    }
   ],
   "source": [
    "# addition of string (higher) data type and integer(lower) datatype\n",
    "num_int1=123\n",
    "num_str=\"456\"\n",
    "print(\"data type of num_int1 is:\",type(num_int1))\n",
    "print(\"data type of num_str is:\",type(num_str))\n",
    "# TypeError: unsupported operand type(s) for +: 'int' and 'str'\n",
    "# error:implicity conversion will not work here\n",
    "print(num_int1+num_str)\n"
   ]
  },
  {
   "cell_type": "code",
   "execution_count": 6,
   "metadata": {},
   "outputs": [
    {
     "name": "stdout",
     "output_type": "stream",
     "text": [
      "data type of num_int2 is: <class 'int'>\n",
      "data type of num_str2 before type casting  is: <class 'str'>\n",
      "data type of num_str2 after type casting  is: <class 'int'>\n",
      "801\n",
      "data type of num_sum is: <class 'int'>\n"
     ]
    }
   ],
   "source": [
    "# explicity type conversion\n",
    "num_int2=234\n",
    "num_str2=\"567\"\n",
    "print(\"data type of num_int2 is:\",type(num_int2))\n",
    "print(\"data type of num_str2 before type casting  is:\",type(num_str2))\n",
    "# converting string to integer\n",
    "num_str2=int(num_str2)\n",
    "print(\"data type of num_str2 after type casting  is:\",type(num_str2))\n",
    "num_sum=num_int2+num_str2\n",
    "print(num_sum)\n",
    "print(\"data type of num_sum is:\",type(num_sum))\n",
    "\n"
   ]
  }
 ],
 "metadata": {
  "kernelspec": {
   "display_name": "Python 3",
   "language": "python",
   "name": "python3"
  },
  "language_info": {
   "codemirror_mode": {
    "name": "ipython",
    "version": 3
   },
   "file_extension": ".py",
   "mimetype": "text/x-python",
   "name": "python",
   "nbconvert_exporter": "python",
   "pygments_lexer": "ipython3",
   "version": "3.11.4"
  }
 },
 "nbformat": 4,
 "nbformat_minor": 2
}
