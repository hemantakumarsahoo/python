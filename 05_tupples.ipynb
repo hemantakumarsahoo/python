{
 "cells": [
  {
   "cell_type": "code",
   "execution_count": 1,
   "metadata": {},
   "outputs": [
    {
     "name": "stdout",
     "output_type": "stream",
     "text": [
      "()\n",
      "(1, 45, 7, 4)\n",
      "(1, 'ram', 3.141, True)\n"
     ]
    }
   ],
   "source": [
    "# tut-7 python tupples\n",
    "#craeting an empty tupples\n",
    "tuple1=()\n",
    "print(tuple1)\n",
    "# craeting tuple with integer element\n",
    "tuple2=(1,45,7,4)\n",
    "print(tuple2)\n",
    "# tuple withmixed data type\n",
    "tuple3=(1,\"ram\",3.141,True)\n",
    "print(tuple3)\n",
    "\n"
   ]
  },
  {
   "cell_type": "code",
   "execution_count": 6,
   "metadata": {},
   "outputs": [
    {
     "name": "stdout",
     "output_type": "stream",
     "text": [
      "('point', (2, 3, 4), [7, 8, 9])\n",
      "(101, 'shyam', 34500.0, 'devloper dept')\n",
      "101\n",
      "shyam\n",
      "34500.0\n",
      "devloper dept\n",
      "<class 'tuple'>\n"
     ]
    }
   ],
   "source": [
    "# creating a nested tuple\n",
    "tuple4=(\"point\",(2,3,4),[7,8,9])\n",
    "print(tuple4)\n",
    "# tuple can be created without anyparenthesis \n",
    "# also called tuple packing\n",
    "tuple5=101,\"shyam\",34500.00,\"devloper dept\"\n",
    "print(tuple5)\n",
    "#  tuple unpackingis also possible\n",
    "empid,empname,empsal,empdept=tuple5\n",
    "print(empid)\n",
    "print(empname)\n",
    "print(empsal)\n",
    "print(empdept)\n",
    "print(type(tuple5))\n",
    "\n"
   ]
  },
  {
   "cell_type": "code",
   "execution_count": 1,
   "metadata": {},
   "outputs": [
    {
     "name": "stdout",
     "output_type": "stream",
     "text": [
      "('w', 'e', 'l', 'c', 'o', 'm', 'e')\n",
      "e\n",
      "c\n",
      "m\n",
      "('point', (2, 3, 4), [7, 8, 9], 'xyz')\n",
      "n\n",
      "4\n",
      "9\n"
     ]
    }
   ],
   "source": [
    "# accessing elements of tuple\n",
    "tuple6=('w','e','l','c','o','m','e')\n",
    "print(tuple6)\n",
    "print(tuple6[1])\n",
    "print(tuple6[3])\n",
    "print(tuple6[5])\n",
    "# nested tuple\n",
    "nest_tuple=(\"point\",(2,3,4),[7,8,9],\"xyz\")\n",
    "print(nest_tuple)\n",
    "print(nest_tuple[0][3])\n",
    "print(nest_tuple[1][2])\n",
    "print(nest_tuple[2][2])\n"
   ]
  },
  {
   "cell_type": "code",
   "execution_count": 2,
   "metadata": {},
   "outputs": [
    {
     "name": "stdout",
     "output_type": "stream",
     "text": [
      "('e', 'l')\n",
      "('w', 'e', 'l', 'c')\n",
      "('c', 'o', 'm', 'e')\n",
      "('w', 'e', 'l', 'c', 'o', 'm', 'e')\n"
     ]
    }
   ],
   "source": [
    "# slicing a tuple elwement\n",
    "# end index is always excluding\n",
    "tuple7=('w','e','l','c','o','m','e')\n",
    "\n",
    "print(tuple7[1:3])\n",
    "print(tuple7[:-3])\n",
    "print(tuple7[3:])\n",
    "print(tuple7[:])"
   ]
  },
  {
   "cell_type": "code",
   "execution_count": 4,
   "metadata": {},
   "outputs": [
    {
     "name": "stdout",
     "output_type": "stream",
     "text": [
      "('w', 'e', 'l', 'c', 'o', 'm', 'e')\n",
      "('g', 'o', 'o', 'd', 'b', 'y', 'e')\n"
     ]
    }
   ],
   "source": [
    "# tuple element are immutable\n",
    "tuple8=('w','e','l','c','o','m','e')\n",
    "print(tuple8)\n",
    "# tuple8[2]='x' #TypeError: 'tuple' object does not support item assignment\n",
    "\n",
    "\n",
    "# tuple can be reassigned\n",
    "tuple8=('g','o','o','d','b','y','e')\n",
    "print(tuple8)"
   ]
  },
  {
   "cell_type": "code",
   "execution_count": 6,
   "metadata": {},
   "outputs": [
    {
     "name": "stdout",
     "output_type": "stream",
     "text": [
      "('w', 'e', 'l')\n",
      "('c', 'o', 'm', 'e')\n",
      "('w', 'e', 'l', 'c', 'o', 'm', 'e')\n",
      "again again again again \n"
     ]
    }
   ],
   "source": [
    "# concatenate tuple \n",
    "tuple9=('w','e','l')\n",
    "tuple10=('c','o','m','e')\n",
    "print(tuple9)\n",
    "print(tuple10)\n",
    "print(tuple9 + tuple10)\n",
    "print(\"again \"*4)"
   ]
  },
  {
   "cell_type": "code",
   "execution_count": null,
   "metadata": {},
   "outputs": [
    {
     "ename": "TypeError",
     "evalue": "'tuple' object doesn't support item deletion",
     "output_type": "error",
     "traceback": [
      "\u001b[1;31m---------------------------------------------------------------------------\u001b[0m",
      "\u001b[1;31mTypeError\u001b[0m                                 Traceback (most recent call last)",
      "Cell \u001b[1;32mIn[8], line 4\u001b[0m\n\u001b[0;32m      2\u001b[0m tuple11\u001b[38;5;241m=\u001b[39m(\u001b[38;5;124m'\u001b[39m\u001b[38;5;124mw\u001b[39m\u001b[38;5;124m'\u001b[39m,\u001b[38;5;124m'\u001b[39m\u001b[38;5;124me\u001b[39m\u001b[38;5;124m'\u001b[39m,\u001b[38;5;124m'\u001b[39m\u001b[38;5;124ml\u001b[39m\u001b[38;5;124m'\u001b[39m,\u001b[38;5;124m'\u001b[39m\u001b[38;5;124mc\u001b[39m\u001b[38;5;124m'\u001b[39m,\u001b[38;5;124m'\u001b[39m\u001b[38;5;124mo\u001b[39m\u001b[38;5;124m'\u001b[39m,\u001b[38;5;124m'\u001b[39m\u001b[38;5;124mm\u001b[39m\u001b[38;5;124m'\u001b[39m,\u001b[38;5;124m'\u001b[39m\u001b[38;5;124me\u001b[39m\u001b[38;5;124m'\u001b[39m)\n\u001b[0;32m      3\u001b[0m \u001b[38;5;66;03m# as tuple element imutable it cannot be deleted indivisual\u001b[39;00m\n\u001b[1;32m----> 4\u001b[0m \u001b[38;5;28;01mdel\u001b[39;00m \u001b[43mtuple11\u001b[49m\u001b[43m[\u001b[49m\u001b[38;5;241;43m3\u001b[39;49m\u001b[43m]\u001b[49m\n\u001b[0;32m      6\u001b[0m \u001b[38;5;28;01mdel\u001b[39;00m tuple11\n\u001b[0;32m      7\u001b[0m \u001b[38;5;28mprint\u001b[39m(tuple11)\n",
      "\u001b[1;31mTypeError\u001b[0m: 'tuple' object doesn't support item deletion"
     ]
    }
   ],
   "source": [
    "# tuple element  deletion operation\n",
    "tuple11=('w','e','l','c','o','m','e')\n",
    "# as tuple element imutable it cannot be deleted indivisual\n",
    "# del tuple11[3]\n",
    "\n",
    "del tuple11\n",
    "print(tuple11)\n"
   ]
  },
  {
   "cell_type": "code",
   "execution_count": 9,
   "metadata": {},
   "outputs": [
    {
     "name": "stdout",
     "output_type": "stream",
     "text": [
      "2\n",
      "3\n"
     ]
    }
   ],
   "source": [
    "# tuple methods\n",
    "tuple12=('w','e','l','c','o','m','e')\n",
    "print(tuple12.count('e'))\n",
    "print(tuple12.index('c'))\n"
   ]
  },
  {
   "cell_type": "code",
   "execution_count": 10,
   "metadata": {},
   "outputs": [
    {
     "name": "stdout",
     "output_type": "stream",
     "text": [
      "True\n",
      "False\n",
      "False\n",
      "False\n"
     ]
    }
   ],
   "source": [
    "# tuple operation\n",
    "tuple13=('w','e','l','c','o','m','e')\n",
    "# membership\n",
    "print('c' in tuple13 )\n",
    "print('c' not in tuple13 )\n",
    "print('a' in tuple13 )\n",
    "print('c' not in tuple13 )\n",
    "\n",
    "\n"
   ]
  },
  {
   "cell_type": "code",
   "execution_count": 12,
   "metadata": {},
   "outputs": [
    {
     "name": "stdout",
     "output_type": "stream",
     "text": [
      "letter is-> w\n",
      "letter is-> e\n",
      "letter is-> l\n",
      "letter is-> c\n",
      "letter is-> o\n",
      "letter is-> m\n",
      "letter is-> e\n"
     ]
    }
   ],
   "source": [
    "# iteeration through tuple elements\n",
    "tuple14=('w','e','l','c','o','m','e')\n",
    "for letter in tuple14:\n",
    "    print(\"letter is->\",letter)"
   ]
  },
  {
   "cell_type": "code",
   "execution_count": 15,
   "metadata": {},
   "outputs": [
    {
     "name": "stdout",
     "output_type": "stream",
     "text": [
      "22\n",
      "111\n",
      "[22, 33, 44, 55, 88, 99, 111]\n",
      "7\n"
     ]
    }
   ],
   "source": [
    "# built in function with tuple\n",
    "tuple15=(22,33,55,99,111,44,88)\n",
    "print(min(tuple15))\n",
    "print(max(tuple15))\n",
    "print(sorted(tuple15))\n",
    "print(len (tuple15))"
   ]
  }
 ],
 "metadata": {
  "kernelspec": {
   "display_name": "Python 3",
   "language": "python",
   "name": "python3"
  },
  "language_info": {
   "codemirror_mode": {
    "name": "ipython",
    "version": 3
   },
   "file_extension": ".py",
   "mimetype": "text/x-python",
   "name": "python",
   "nbconvert_exporter": "python",
   "pygments_lexer": "ipython3",
   "version": "3.11.4"
  }
 },
 "nbformat": 4,
 "nbformat_minor": 2
}
