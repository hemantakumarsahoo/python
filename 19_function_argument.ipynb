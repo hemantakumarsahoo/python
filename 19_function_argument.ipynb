{
 "cells": [
  {
   "cell_type": "code",
   "execution_count": 6,
   "metadata": {},
   "outputs": [
    {
     "name": "stdout",
     "output_type": "stream",
     "text": [
      "maximum number is .. 30\n"
     ]
    }
   ],
   "source": [
    "def findMax(a,b):\n",
    "    if a>b:\n",
    "        return a\n",
    "    else:\n",
    "        return b\n",
    "print(\"maximum number is ..\",findMax(20,30))"
   ]
  },
  {
   "cell_type": "code",
   "execution_count": 7,
   "metadata": {},
   "outputs": [
    {
     "name": "stdout",
     "output_type": "stream",
     "text": [
      "Hello agnabi have a nice day\n",
      "Hello agnabi how arre you\n"
     ]
    }
   ],
   "source": [
    "def hello (name,msg=\"how arre you\"):\n",
    "    print(\"Hello\",name,msg)\n",
    "\n",
    "hello(\"agnabi\",\"have a nice day\")\n",
    "hello(\"agnabi\")"
   ]
  },
  {
   "cell_type": "code",
   "execution_count": 8,
   "metadata": {},
   "outputs": [
    {
     "name": "stdout",
     "output_type": "stream",
     "text": [
      "sum of all the integer between 1-5 is  15\n"
     ]
    }
   ],
   "source": [
    "def sumAll(*args):\n",
    "    sum=0\n",
    "    for i in  args:\n",
    "        sum+=i\n",
    "    return sum\n",
    "print(\"sum of all the integer between 1-5 is \",sumAll(1,2,3,4,5))\n",
    "\n",
    "\n"
   ]
  },
  {
   "cell_type": "code",
   "execution_count": 10,
   "metadata": {},
   "outputs": [
    {
     "name": "stdout",
     "output_type": "stream",
     "text": [
      "a=10,b=20,c=30....\n"
     ]
    }
   ],
   "source": [
    "def defaultArg(a,b,c):\n",
    "    print(\"a={},b={},c={}....\".format(a,b,c))\n",
    "defaultArg(10,20,30)\n",
    "# if one argument is missing type error shows  missing 1 arrument\n",
    "defaultArg(10,20)"
   ]
  }
 ],
 "metadata": {
  "kernelspec": {
   "display_name": "Python 3",
   "language": "python",
   "name": "python3"
  },
  "language_info": {
   "codemirror_mode": {
    "name": "ipython",
    "version": 3
   },
   "file_extension": ".py",
   "mimetype": "text/x-python",
   "name": "python",
   "nbconvert_exporter": "python",
   "pygments_lexer": "ipython3",
   "version": "3.11.4"
  }
 },
 "nbformat": 4,
 "nbformat_minor": 2
}
