{
 "cells": [
  {
   "cell_type": "code",
   "execution_count": 36,
   "metadata": {},
   "outputs": [],
   "source": [
    "# create a class and object in python \n",
    "class myBird:\n",
    "    def __init__(self):\n",
    "        print(\"my bird class constuctor is executing...\")\n",
    "    def whatType(self):\n",
    "        print(\"i am a bird...\")\n",
    "    def canSwim(self):\n",
    "        print(\"i can swim....\")\n",
    " "
   ]
  },
  {
   "cell_type": "code",
   "execution_count": 37,
   "metadata": {},
   "outputs": [],
   "source": [
    "# my penguin class inheriting the attrributes from the mybird class\n",
    "class Mypenguin(myBird):\n",
    "    def __init__(self):\n",
    "        # call super()function\n",
    "        super().__init__()\n",
    "\n",
    "        print(\"myPenguine class constructor is executing....\")\n",
    "    def whoisThis(self):\n",
    "        print(\"i am a penguine...\")\n",
    "    def canRun(self):\n",
    "        print(\"i can run faster....\")\n"
   ]
  },
  {
   "cell_type": "code",
   "execution_count": 38,
   "metadata": {},
   "outputs": [
    {
     "name": "stdout",
     "output_type": "stream",
     "text": [
      "my bird class constuctor is executing...\n",
      "myPenguine class constructor is executing....\n",
      "i am a bird...\n",
      "i am a penguine...\n",
      "i can swim....\n",
      "i can run faster....\n"
     ]
    }
   ],
   "source": [
    "# accesing the child class`s attributes (inheritance)\n",
    "pg1=Mypenguin()\n",
    "pg1.whatType()#defining in my bird class\n",
    "pg1.whoisThis()#defining in my penguin class\n",
    "pg1.canSwim()#defining in my bird class\n",
    "pg1.canRun()#defining in my penguin class\n"
   ]
  },
  {
   "cell_type": "code",
   "execution_count": 39,
   "metadata": {},
   "outputs": [],
   "source": [
    "# polymerphism\n",
    "class MyParrot:\n",
    "    def canfly(self):\n",
    "        print(\"yes i can fly....\")\n",
    "    def canSwim(self):\n",
    "        print(\"parrot can not  swim....\")"
   ]
  },
  {
   "cell_type": "code",
   "execution_count": 40,
   "metadata": {},
   "outputs": [],
   "source": [
    "class Mypenguin:\n",
    "    def canfly(self):\n",
    "        print(\"penguin can`t fly....\")\n",
    "    def canSwim(self):\n",
    "        print(\"penguin can swim....\")"
   ]
  },
  {
   "cell_type": "code",
   "execution_count": 41,
   "metadata": {},
   "outputs": [],
   "source": [
    "# common interface\n",
    "def flying_bird_test(bird):\n",
    "    bird.canfly()\n",
    "    bird.canSwim()"
   ]
  },
  {
   "cell_type": "code",
   "execution_count": 42,
   "metadata": {},
   "outputs": [
    {
     "name": "stdout",
     "output_type": "stream",
     "text": [
      "yes i can fly....\n",
      "parrot can not  swim....\n",
      "penguin can`t fly....\n",
      "penguin can swim....\n"
     ]
    }
   ],
   "source": [
    "# instantiate object\n",
    "bird_parrot=MyParrot()\n",
    "bird_penguin=Mypenguin()\n",
    "# passing the object\n",
    "flying_bird_test(bird_parrot)\n",
    "# print()\n",
    "flying_bird_test(bird_penguin)"
   ]
  },
  {
   "cell_type": "code",
   "execution_count": null,
   "metadata": {},
   "outputs": [],
   "source": []
  }
 ],
 "metadata": {
  "kernelspec": {
   "display_name": "Python 3",
   "language": "python",
   "name": "python3"
  },
  "language_info": {
   "codemirror_mode": {
    "name": "ipython",
    "version": 3
   },
   "file_extension": ".py",
   "mimetype": "text/x-python",
   "name": "python",
   "nbconvert_exporter": "python",
   "pygments_lexer": "ipython3",
   "version": "3.11.4"
  }
 },
 "nbformat": 4,
 "nbformat_minor": 2
}
