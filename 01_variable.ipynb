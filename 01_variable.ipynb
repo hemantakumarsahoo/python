{
 "cells": [
  {
   "cell_type": "code",
   "execution_count": 1,
   "metadata": {},
   "outputs": [
    {
     "name": "stdout",
     "output_type": "stream",
     "text": [
      "3.141\n",
      "9.8\n"
     ]
    }
   ],
   "source": [
    "#constant\n",
    "PI=3.141\n",
    "GRAVITY=9.8\n",
    "print(PI)\n",
    "print(GRAVITY)"
   ]
  },
  {
   "cell_type": "code",
   "execution_count": 3,
   "metadata": {},
   "outputs": [
    {
     "name": "stdout",
     "output_type": "stream",
     "text": [
      "apple\n",
      "banana\n",
      "100\n",
      "1\n",
      "6\n",
      "orange\n",
      "7 7 7\n"
     ]
    }
   ],
   "source": [
    "# declaring and assining variable\n",
    "a=\"apple\"\n",
    "print(a)\n",
    "# changeing value of variable\n",
    "a=\"banana\"\n",
    "print(a)\n",
    "a=100\n",
    "print(a)\n",
    "# assining multiple values to varable\n",
    "a,b,c=1,6,\"orange\"\n",
    "print(a)\n",
    "print(b)\n",
    "print(c)\n",
    "# assining same values to varable\n",
    "b=c=d=7\n",
    "print(b,c,d)\n"
   ]
  }
 ],
 "metadata": {
  "kernelspec": {
   "display_name": "Python 3",
   "language": "python",
   "name": "python3"
  },
  "language_info": {
   "codemirror_mode": {
    "name": "ipython",
    "version": 3
   },
   "file_extension": ".py",
   "mimetype": "text/x-python",
   "name": "python",
   "nbconvert_exporter": "python",
   "pygments_lexer": "ipython3",
   "version": "3.11.4"
  }
 },
 "nbformat": 4,
 "nbformat_minor": 2
}
