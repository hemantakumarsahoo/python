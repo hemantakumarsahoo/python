{
 "cells": [
  {
   "cell_type": "code",
   "execution_count": 6,
   "metadata": {},
   "outputs": [
    {
     "name": "stdout",
     "output_type": "stream",
     "text": [
      "id(2) 140736858022728\n",
      "id(a) 140736858022728\n",
      "id(a) 140736858022760\n",
      "id(3) 140736858022760\n",
      "id(a) 140736858022824\n",
      "id(3) 140736858022824\n"
     ]
    }
   ],
   "source": [
    "# Name (also called identifier is simply a name given to object)\n",
    "# we can get the address (in ram)of some object through the built in function ,id()\n",
    "# note: you may get different value\n",
    "a=2\n",
    "# output:id(2) 140736858022728\n",
    "print(\"id(2)\",id(2))\n",
    "\n",
    "print(\"id(a)\",id(a))\n",
    "\n",
    "a=a+1\n",
    "# output:id(2) 140736858022728\n",
    "print(\"id(a)\",id(a))\n",
    "\n",
    "print(\"id(3)\",id(3))\n",
    "b=5\n",
    "# output:id(2) 140736858022728\n",
    "print(\"id(a)\",id(b))\n",
    "\n",
    "print(\"id(3)\",id(b))\n"
   ]
  },
  {
   "cell_type": "code",
   "execution_count": 7,
   "metadata": {},
   "outputs": [
    {
     "name": "stdout",
     "output_type": "stream",
     "text": [
      "a= 10\n",
      "a= 30\n",
      "a= 30\n",
      "a= 30\n"
     ]
    }
   ],
   "source": [
    "# scope\n",
    "def outer_function():\n",
    "    global a\n",
    "    a=20\n",
    "    def inner_function():\n",
    "        global a\n",
    "        a=30\n",
    "        print(\"a=\",a)\n",
    "    inner_function()\n",
    "    print(\"a=\",a)\n",
    "\n",
    "a=10   \n",
    "print(\"a=\",a)\n",
    "outer_function()\n",
    "print(\"a=\",a)\n",
    "\n"
   ]
  }
 ],
 "metadata": {
  "kernelspec": {
   "display_name": "Python 3",
   "language": "python",
   "name": "python3"
  },
  "language_info": {
   "codemirror_mode": {
    "name": "ipython",
    "version": 3
   },
   "file_extension": ".py",
   "mimetype": "text/x-python",
   "name": "python",
   "nbconvert_exporter": "python",
   "pygments_lexer": "ipython3",
   "version": "3.11.4"
  }
 },
 "nbformat": 4,
 "nbformat_minor": 2
}
