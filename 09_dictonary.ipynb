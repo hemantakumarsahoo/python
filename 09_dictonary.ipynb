{
 "cells": [
  {
   "cell_type": "code",
   "execution_count": 5,
   "metadata": {},
   "outputs": [
    {
     "name": "stdout",
     "output_type": "stream",
     "text": [
      "{1: 'hello', 2: 'hi', 3: 'namaste'}\n",
      "hello\n",
      "hi\n",
      "None\n",
      "{1: 'Hey', 2: 'hi', 3: 'namaste'}\n",
      "{1: 'Hey', 2: 'hi', 3: 'namaste', 4: 'welcome'}\n"
     ]
    }
   ],
   "source": [
    "# Accesing elements from a dictonary\n",
    "new_dict={1:'hello',2:\"hi\",3:\"namaste\"}\n",
    "print(new_dict)\n",
    "print(new_dict[1])\n",
    "# print(new_dict[10])#in this 10 key is not present so it give error->key error 10\n",
    "print(new_dict.get(2))\n",
    "print(new_dict.get(10))# but in this get()it will return none\n",
    "# updating value\n",
    "new_dict[1]='Hey'\n",
    "print(new_dict)\n",
    "# adding value\n",
    "new_dict[4]=\"welcome\"\n",
    "print(new_dict)"
   ]
  },
  {
   "cell_type": "code",
   "execution_count": 10,
   "metadata": {},
   "outputs": [
    {
     "name": "stdout",
     "output_type": "stream",
     "text": [
      "{1: 1, 2: 4, 3: 9, 4: 16, 5: 25, 6: 36, 7: 49}\n",
      "16\n",
      "{1: 1, 2: 4, 3: 9, 5: 25, 6: 36, 7: 49}\n",
      "(7, 49)\n",
      "{1: 1, 2: 4, 3: 9, 5: 25, 6: 36}\n",
      "{2: 4, 3: 9, 5: 25, 6: 36}\n"
     ]
    }
   ],
   "source": [
    "# creating a new dictinary\n",
    "squares={1:1,2:4,3:9,4:16,5:25,6:36,7:49}\n",
    "print(squares)\n",
    "# remove a perticular item using pop()\n",
    "print(squares.pop(4))\n",
    "print(squares)\n",
    "# remove an orbitary items\n",
    "print(squares.popitem())\n",
    "print(squares)\n",
    "# delete a particular items\n",
    "del squares[1]\n",
    "print(squares)"
   ]
  },
  {
   "cell_type": "code",
   "execution_count": 16,
   "metadata": {},
   "outputs": [
    {
     "name": "stdout",
     "output_type": "stream",
     "text": [
      "{1: 1, 2: 4, 3: 9, 4: 16, 5: 25, 6: 36, 7: 49, 8: 64}\n",
      "{}\n"
     ]
    }
   ],
   "source": [
    "# craeting anew dictonary\n",
    "squares={1:1,2:4,3:9,4:16,5:25,6:36,7:49,8:64}\n",
    "print(squares)\n",
    "# remove all items\n",
    "squares.clear()\n",
    "# output{} empty dictonary\n",
    "print(squares)\n",
    "# delete the dictonary itself\n",
    "del squares\n",
    "# thorws an error as the dictonary has been deleted fully\n",
    "# print(squares)\n"
   ]
  },
  {
   "cell_type": "code",
   "execution_count": null,
   "metadata": {},
   "outputs": [
    {
     "name": "stdout",
     "output_type": "stream",
     "text": [
      "{0: 0, 1: 1, 2: 4, 3: 9, 4: 16, 5: 25}\n",
      "True\n",
      "True\n",
      "False\n"
     ]
    }
   ],
   "source": [
    "# creating a new dictonary using comprehension\n",
    "squares2={x: x*x for x in range(6)}\n",
    "print(squares2)\n",
    "\n",
    "# dictinory membership test\n",
    "squares3={1: 1,  3: 9,5: 25,7:49,9:81}\n",
    "print(1 in squares3)\n",
    "print(2 not in squares3)\\\n",
    "\n",
    "# membership tests for key only not for the value\n",
    "print(49 in squares3)"
   ]
  },
  {
   "cell_type": "code",
   "execution_count": 26,
   "metadata": {},
   "outputs": [
    {
     "name": "stdout",
     "output_type": "stream",
     "text": [
      "1\n",
      "9\n",
      "25\n",
      "49\n",
      "81\n",
      "121\n",
      "the length of dictionary is: 6\n",
      "the sorrted of dictionary is: [1, 3, 5, 7, 11]\n"
     ]
    }
   ],
   "source": [
    "# iterating through dictonary\n",
    "squares4={1: 1,  3: 9,5: 25,7:49,9:81,11:121}\n",
    "for i in squares4:\n",
    "    print(squares4[i])\n",
    "\n",
    "# using built in function in a dictonary\n",
    "print(f\"the length of dictionary is:\",len(squares4))\n",
    "squares5={1: 1,  3: 9,7:49,11:121,5: 25}\n",
    "print(f\"the sorrted of dictionary is:\",sorted(squares5))\n"
   ]
  }
 ],
 "metadata": {
  "kernelspec": {
   "display_name": "Python 3",
   "language": "python",
   "name": "python3"
  },
  "language_info": {
   "codemirror_mode": {
    "name": "ipython",
    "version": 3
   },
   "file_extension": ".py",
   "mimetype": "text/x-python",
   "name": "python",
   "nbconvert_exporter": "python",
   "pygments_lexer": "ipython3",
   "version": "3.11.4"
  }
 },
 "nbformat": 4,
 "nbformat_minor": 2
}
