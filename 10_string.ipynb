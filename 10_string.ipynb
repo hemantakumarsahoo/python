{
 "cells": [
  {
   "cell_type": "code",
   "execution_count": 3,
   "metadata": {},
   "outputs": [
    {
     "name": "stdout",
     "output_type": "stream",
     "text": [
      "hello\n",
      "welcome\n",
      " welcome to the\n",
      "world of progamming\n",
      "\n"
     ]
    }
   ],
   "source": [
    "# different ways to define a string in python\n",
    "\n",
    "my_str1='hello'\n",
    "print(my_str1)\n",
    "my_str2=\"welcome\"\n",
    "print(my_str2)\n",
    "my_str3=\"\"\" welcome to the\n",
    "world of progamming\n",
    "\"\"\"\n",
    "print(my_str3)\n"
   ]
  },
  {
   "cell_type": "code",
   "execution_count": null,
   "metadata": {},
   "outputs": [
    {
     "name": "stdout",
     "output_type": "stream",
     "text": [
      "mystr= language\n",
      "mystr[0]= l\n",
      "mystr[-1]= e\n",
      "mystr[1:5]= angu\n",
      "mystr[5:-2]= a\n"
     ]
    },
    {
     "ename": "IndexError",
     "evalue": "string index out of range",
     "output_type": "error",
     "traceback": [
      "\u001b[1;31m---------------------------------------------------------------------------\u001b[0m",
      "\u001b[1;31mIndexError\u001b[0m                                Traceback (most recent call last)",
      "Cell \u001b[1;32mIn[5], line 9\u001b[0m\n\u001b[0;32m      7\u001b[0m \u001b[38;5;28mprint\u001b[39m(\u001b[38;5;124m\"\u001b[39m\u001b[38;5;124mmystr[1:5]=\u001b[39m\u001b[38;5;124m\"\u001b[39m,mystr[\u001b[38;5;241m1\u001b[39m:\u001b[38;5;241m5\u001b[39m])\n\u001b[0;32m      8\u001b[0m \u001b[38;5;28mprint\u001b[39m(\u001b[38;5;124m\"\u001b[39m\u001b[38;5;124mmystr[5:-2]=\u001b[39m\u001b[38;5;124m\"\u001b[39m,mystr[\u001b[38;5;241m5\u001b[39m:\u001b[38;5;241m-\u001b[39m\u001b[38;5;241m2\u001b[39m])\n\u001b[1;32m----> 9\u001b[0m \u001b[38;5;28mprint\u001b[39m(\u001b[38;5;124m\"\u001b[39m\u001b[38;5;124mmystr[10]=\u001b[39m\u001b[38;5;124m\"\u001b[39m,\u001b[43mmystr\u001b[49m\u001b[43m[\u001b[49m\u001b[38;5;241;43m10\u001b[39;49m\u001b[43m]\u001b[49m)\n",
      "\u001b[1;31mIndexError\u001b[0m: string index out of range"
     ]
    }
   ],
   "source": [
    "# accessing characters in astring\n",
    "mystr=\"language\"\n",
    "print(\"mystr=\",mystr)\n",
    "\n",
    "print(\"mystr[0]=\",mystr[0])\n",
    "print(\"mystr[-1]=\",mystr[-1])\n",
    "print(\"mystr[1:5]=\",mystr[1:5])\n",
    "print(\"mystr[5:-2]=\",mystr[5:-2])\n",
    "# if the index is not present but we want to print\n",
    "#  this index then IndexError: string index out of range is showing\n",
    "# print(\"mystr[10]=\",mystr[10])\n",
    "\n"
   ]
  },
  {
   "cell_type": "code",
   "execution_count": null,
   "metadata": {},
   "outputs": [
    {
     "name": "stdout",
     "output_type": "stream",
     "text": [
      "language\n",
      "programming\n"
     ]
    },
    {
     "ename": "TypeError",
     "evalue": "'str' object does not support item assignment",
     "output_type": "error",
     "traceback": [
      "\u001b[1;31m---------------------------------------------------------------------------\u001b[0m",
      "\u001b[1;31mTypeError\u001b[0m                                 Traceback (most recent call last)",
      "Cell \u001b[1;32mIn[7], line 8\u001b[0m\n\u001b[0;32m      6\u001b[0m mystr\u001b[38;5;241m=\u001b[39m\u001b[38;5;124m'\u001b[39m\u001b[38;5;124mprogramming\u001b[39m\u001b[38;5;124m'\u001b[39m\n\u001b[0;32m      7\u001b[0m \u001b[38;5;28mprint\u001b[39m(mystr)\n\u001b[1;32m----> 8\u001b[0m \u001b[43mmystr\u001b[49m\u001b[43m[\u001b[49m\u001b[38;5;241;43m3\u001b[39;49m\u001b[43m]\u001b[49m\u001b[38;5;241m=\u001b[39m\u001b[38;5;124m\"\u001b[39m\u001b[38;5;124mx\u001b[39m\u001b[38;5;124m\"\u001b[39m\n",
      "\u001b[1;31mTypeError\u001b[0m: 'str' object does not support item assignment"
     ]
    }
   ],
   "source": [
    "# strings are immutable\n",
    "# but different string can be assigned\n",
    "mystr='language'\n",
    "print(mystr)\n",
    "\n",
    "mystr='programming'\n",
    "print(mystr)\n",
    "# if we want to change the value of string \n",
    "#  it shows theTypeError: 'str' object does not support item assignment\n",
    "mystr[3]=\"x\""
   ]
  },
  {
   "cell_type": "code",
   "execution_count": null,
   "metadata": {},
   "outputs": [
    {
     "name": "stdout",
     "output_type": "stream",
     "text": [
      "hello programmer\n",
      "mystr4*3 hellohellohello\n"
     ]
    }
   ],
   "source": [
    "# concatenation string\n",
    "my_str4='hello'\n",
    "\n",
    "my_str5='programmer'\n",
    "# using +\n",
    "print(my_str4 +' '+ my_str5)\n",
    "# using *\n",
    "my_str4='hello'\n",
    "print(\"mystr4*3=\",my_str4*3)\n"
   ]
  },
  {
   "cell_type": "code",
   "execution_count": 15,
   "metadata": {},
   "outputs": [
    {
     "name": "stdout",
     "output_type": "stream",
     "text": [
      "3 times l letter has been count\n"
     ]
    }
   ],
   "source": [
    "# iterating thrrough a string\n",
    "letter_count=0\n",
    "for letter in \"HELLO WORLD\":\n",
    "    # print(letter)\n",
    "    if (letter==\"L\"):\n",
    "        letter_count+=1\n",
    "print(letter_count,'times l letter has been count')"
   ]
  },
  {
   "cell_type": "code",
   "execution_count": 17,
   "metadata": {},
   "outputs": [
    {
     "name": "stdout",
     "output_type": "stream",
     "text": [
      "True\n",
      "False\n",
      "False\n",
      "True\n"
     ]
    }
   ],
   "source": [
    "# String membership\n",
    "\n",
    "print('l' in \"hello\")\n",
    "print('l'not  in \"hello\")\n",
    "print('b' in \"hello\")\n",
    "print('b' not in \"hello\")"
   ]
  },
  {
   "cell_type": "code",
   "execution_count": null,
   "metadata": {},
   "outputs": [
    {
     "name": "stdout",
     "output_type": "stream",
     "text": [
      "list(enumerate(mystr6)) [(0, 'u'), (1, 'n'), (2, 'i'), (3, 'v'), (4, 'e'), (5, 'r'), (6, 's'), (7, 'i'), (8, 't'), (9, 'y')]\n",
      "len(mystr6)= 10\n"
     ]
    }
   ],
   "source": [
    "# built in function\n",
    "mystr6=\"university\"\n",
    "# using enumerate-\n",
    "# it  ceate  a list and store the index number with the sting\n",
    "my_list_enumerate=list(enumerate(mystr6))\n",
    "print('list(enumerate(mystr6))',my_list_enumerate)\n",
    "# using character count\n",
    "print('len(mystr6)=',len(mystr6))"
   ]
  },
  {
   "cell_type": "code",
   "execution_count": 21,
   "metadata": {},
   "outputs": [
    {
     "name": "stdout",
     "output_type": "stream",
     "text": [
      "tell me \"what\"s your name ?\n",
      "tell me \"what\\`s your name ?\n",
      "tell me \\ \"what`s your name ?'\n"
     ]
    }
   ],
   "source": [
    "# string formatting using escape sequence character\n",
    "# print(\"tell me \"what\"s your name\")\n",
    "\n",
    "\n",
    "# using triple quoets\n",
    "print('''tell me \"what\"s your name ?''')\n",
    "# escape singe quoets\n",
    "print('''tell me \"what\\`s your name ?''')\n",
    "# escaping double quotes\n",
    "print('''tell me \\ \"what`s your name ?\\'''')\n"
   ]
  },
  {
   "cell_type": "code",
   "execution_count": null,
   "metadata": {},
   "outputs": [
    {
     "ename": "SyntaxError",
     "evalue": "(unicode error) 'unicodeescape' codec can't decode bytes in position 1-3: truncated \\xXX escape (2743489871.py, line 10)",
     "output_type": "error",
     "traceback": [
      "\u001b[1;36m  Cell \u001b[1;32mIn[23], line 10\u001b[1;36m\u001b[0m\n\u001b[1;33m    \"\"\"\u001b[0m\n\u001b[1;37m       ^\u001b[0m\n\u001b[1;31mSyntaxError\u001b[0m\u001b[1;31m:\u001b[0m (unicode error) 'unicodeescape' codec can't decode bytes in position 1-3: truncated \\xXX escape\n"
     ]
    }
   ],
   "source": [
    "print(\"c:\\\\User\\\\mydata\\\\data.txt\")\n",
    "print(\"this line is having a new line \\n character\")\n",
    "print(\"this line is having a  tab \\t character\")\n",
    "print(\"ABC written in \\x41\\x42\\x43(HEX) representation\")\n",
    "\n",
    "\n",
    "# \\x4=A\n",
    "# \\x42=B\n",
    "# \\x43=C\n",
    "\n"
   ]
  },
  {
   "cell_type": "code",
   "execution_count": 26,
   "metadata": {},
   "outputs": [
    {
     "name": "stdout",
     "output_type": "stream",
     "text": [
      "Todayis andsunday\n",
      "Today is and sunday\n",
      "Today is and sunday\n"
     ]
    }
   ],
   "source": [
    "# format() method\n",
    "# default (implicit) order\n",
    "default_order=\"{}{} and{}\".format('Today','is','sunday')\n",
    "print(default_order)\n",
    "# order using positional arguments\n",
    "positional_order=\"{1} {0} and {2}\".format('is','Today','sunday')\n",
    "print(positional_order)\n",
    "# order using keyword argument\n",
    "keyword_order=\"{t} {i} and {s}\".format(t='Today',i='is',s='sunday')\n",
    "print(keyword_order)"
   ]
  },
  {
   "cell_type": "code",
   "execution_count": 29,
   "metadata": {},
   "outputs": [
    {
     "name": "stdout",
     "output_type": "stream",
     "text": [
      "Required  binary representations of 20 is 10100\n",
      "Exponent representations :1.566345e+03\n",
      "one third is :0.333\n"
     ]
    }
   ],
   "source": [
    "# formatting number\n",
    "print(\"Required  binary representations of {0} is {0:b}\".format(20))\n",
    "# formatting floats\n",
    "print(\"Exponent representations :{0:e}\".format(1566.345))\n",
    "# round off\n",
    "print(\"one third is :{0:.3f}\".format(1/3))\n"
   ]
  },
  {
   "cell_type": "code",
   "execution_count": null,
   "metadata": {},
   "outputs": [
    {
     "name": "stdout",
     "output_type": "stream",
     "text": [
      "good morning to all\n",
      "GOOD MORNING TO ALL\n",
      "13\n",
      "-1\n",
      "gOOD moRNing tO everybody\n",
      "gOOD moRNing tO alL\n"
     ]
    }
   ],
   "source": [
    "# string methods\n",
    "print(\"gOOD moRNing tO alL\" .lower())\n",
    "print(\"gOOD moRNing tO alL\" .upper())\n",
    "print(\"gOOD moRNing tO alL\" .find('tO'))\n",
    "print(\"gOOD moRNing tO alL\" .find('t0'))\n",
    "print(\"gOOD moRNing tO alL\" .replace('alL','everybody'))\n",
    "# no match in the string so no return\n",
    "print(\"gOOD moRNing tO alL\" .replace('all','everybody'))\n"
   ]
  }
 ],
 "metadata": {
  "kernelspec": {
   "display_name": "Python 3",
   "language": "python",
   "name": "python3"
  },
  "language_info": {
   "codemirror_mode": {
    "name": "ipython",
    "version": 3
   },
   "file_extension": ".py",
   "mimetype": "text/x-python",
   "name": "python",
   "nbconvert_exporter": "python",
   "pygments_lexer": "ipython3",
   "version": "3.11.4"
  }
 },
 "nbformat": 4,
 "nbformat_minor": 2
}
