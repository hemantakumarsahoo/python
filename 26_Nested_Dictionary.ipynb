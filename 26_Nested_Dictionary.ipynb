{
 "cells": [
  {
   "cell_type": "code",
   "execution_count": 83,
   "metadata": {},
   "outputs": [
    {
     "name": "stdout",
     "output_type": "stream",
     "text": [
      "{1: {'name': 'john', 'age': '27', 'gender': 'male'}, 2: {'name': 'marie', 'age': '22', 'gender': 'female'}}\n",
      "john\n",
      "27\n",
      "male\n",
      "marie\n"
     ]
    }
   ],
   "source": [
    "# Declaring and  defing a nested dictonary\n",
    "people={1:{'name':'john','age':'27','gender':'male'},      \n",
    "        2:{'name':'marie','age':'22','gender':'female'}}\n",
    "print(people)\n",
    "# accesing elements of the dictionary\n",
    "print(people[1]['name'])\n",
    "print(people[1]['age'])\n",
    "print(people[1]['gender'])\n",
    "print(people[2]['name'])"
   ]
  },
  {
   "cell_type": "code",
   "execution_count": 84,
   "metadata": {},
   "outputs": [
    {
     "name": "stdout",
     "output_type": "stream",
     "text": [
      "{1: {'name': 'john', 'age': '27', 'gender': 'male'}, 2: {'name': 'marie', 'age': '22', 'gender': 'female'}, 3: {'name': 'Luna', 'Age': '24', 'gender': 'female', 'married': 'No'}}\n"
     ]
    }
   ],
   "source": [
    "people[3]={}\n",
    "# adding elements of the dictinory\n",
    "people[3]['name']='Luna'\n",
    "people[3]['Age']='24'\n",
    "people[3]['gender']='female'\n",
    "people[3]['married']='No'\n",
    "print(people)\n"
   ]
  },
  {
   "cell_type": "code",
   "execution_count": 85,
   "metadata": {},
   "outputs": [
    {
     "name": "stdout",
     "output_type": "stream",
     "text": [
      "{'name': 'peter', 'age': '29', 'gender': 'male', 'married': 'yes'}\n",
      "{1: {'name': 'john', 'age': '27', 'gender': 'male'}, 2: {'name': 'marie', 'age': '22', 'gender': 'female'}, 3: {'name': 'Luna', 'Age': '24', 'gender': 'female', 'married': 'No'}, 4: {'name': 'peter', 'age': '29', 'gender': 'male', 'married': 'yes'}}\n"
     ]
    }
   ],
   "source": [
    "# deleting elements from a dictionary\n",
    "people[4]={'name':'peter','age':'29','gender':'male',\"married\":'yes'}\n",
    "print(people[4])\n",
    "print(people)"
   ]
  },
  {
   "cell_type": "code",
   "execution_count": 86,
   "metadata": {},
   "outputs": [
    {
     "name": "stdout",
     "output_type": "stream",
     "text": [
      "{'name': 'Luna', 'Age': '24', 'gender': 'female', 'married': 'No'}\n",
      "{'name': 'peter', 'age': '29', 'gender': 'male', 'married': 'yes'}\n",
      "{1: {'name': 'john', 'age': '27', 'gender': 'male'}, 2: {'name': 'marie', 'age': '22', 'gender': 'female'}, 3: {'name': 'Luna', 'Age': '24', 'gender': 'female'}, 4: {'name': 'peter', 'age': '29', 'married': 'yes'}}\n",
      "{'name': 'Luna', 'Age': '24', 'gender': 'female'}\n",
      "{'name': 'peter', 'age': '29', 'married': 'yes'}\n"
     ]
    }
   ],
   "source": [
    "# deleting element from dictionary\n",
    "print(people[3])\n",
    "print(people[4])\n",
    "\n",
    "del(people[3]['married'])\n",
    "del(people[4]['gender'])\n",
    "\n",
    "print(people)\n",
    "\n",
    "print(people[3])\n",
    "print(people[4])"
   ]
  },
  {
   "cell_type": "code",
   "execution_count": 87,
   "metadata": {},
   "outputs": [
    {
     "name": "stdout",
     "output_type": "stream",
     "text": [
      "{1: {'name': 'john', 'age': '27', 'gender': 'male'}, 2: {'name': 'marie', 'age': '22', 'gender': 'female'}}\n"
     ]
    }
   ],
   "source": [
    "people={1: {'name': 'john', 'age': '27', 'gender': 'male'},\n",
    "        2: {'name': 'marie', 'age': '22', 'gender': 'female'},\n",
    "        3: {'name': 'Luna', 'Age': '24', 'gender': 'female', 'married': 'No'},\n",
    "        4: {'name': 'peter', 'age': '29', 'gender': 'male', 'married': 'yes'}\n",
    "    }\n",
    "del people[3],people[4]\n",
    "print(people)\n"
   ]
  },
  {
   "cell_type": "code",
   "execution_count": 89,
   "metadata": {},
   "outputs": [
    {
     "name": "stdout",
     "output_type": "stream",
     "text": [
      "dict_items([(1, {'name': 'john', 'age': '27', 'gender': 'male'}), (2, {'name': 'marie', 'age': '22', 'gender': 'female'})])\n",
      "\n",
      " person ID: 1\n"
     ]
    },
    {
     "ename": "KeyError",
     "evalue": "1",
     "output_type": "error",
     "traceback": [
      "\u001b[1;31m---------------------------------------------------------------------------\u001b[0m",
      "\u001b[1;31mKeyError\u001b[0m                                  Traceback (most recent call last)",
      "Cell \u001b[1;32mIn[89], line 5\u001b[0m\n\u001b[0;32m      3\u001b[0m \u001b[38;5;28;01mfor\u001b[39;00m p_id,p_info \u001b[38;5;129;01min\u001b[39;00m people\u001b[38;5;241m.\u001b[39mitems():\n\u001b[0;32m      4\u001b[0m     \u001b[38;5;28mprint\u001b[39m(\u001b[38;5;124m\"\u001b[39m\u001b[38;5;130;01m\\n\u001b[39;00m\u001b[38;5;124m person ID:\u001b[39m\u001b[38;5;124m\"\u001b[39m, p_id)\n\u001b[1;32m----> 5\u001b[0m     \u001b[38;5;28mprint\u001b[39m( p_id,\u001b[38;5;124m\"\u001b[39m\u001b[38;5;124m:\u001b[39m\u001b[38;5;124m\"\u001b[39m,\u001b[43mp_info\u001b[49m\u001b[43m[\u001b[49m\u001b[43mp_id\u001b[49m\u001b[43m]\u001b[49m)\n\u001b[0;32m      9\u001b[0m     \u001b[38;5;66;03m# for key in p_info:\u001b[39;00m\n\u001b[0;32m     10\u001b[0m     \u001b[38;5;66;03m#     print(key+\":\",p_info[key])\u001b[39;00m\n",
      "\u001b[1;31mKeyError\u001b[0m: 1"
     ]
    }
   ],
   "source": [
    "# iterating  through a nested dictonary\n",
    "print(people.items())\n",
    "for p_id,p_info in people.items():\n",
    "    print(\"\\n person ID:\", p_id)\n",
    "    print( p_id,\":\",p_info[p_id])\n",
    "  \n",
    "    \n",
    "    \n",
    "    # for key in p_info:\n",
    "    #     print(key+\":\",p_info[key])"
   ]
  }
 ],
 "metadata": {
  "kernelspec": {
   "display_name": "Python 3",
   "language": "python",
   "name": "python3"
  },
  "language_info": {
   "codemirror_mode": {
    "name": "ipython",
    "version": 3
   },
   "file_extension": ".py",
   "mimetype": "text/x-python",
   "name": "python",
   "nbconvert_exporter": "python",
   "pygments_lexer": "ipython3",
   "version": "3.11.4"
  }
 },
 "nbformat": 4,
 "nbformat_minor": 2
}
