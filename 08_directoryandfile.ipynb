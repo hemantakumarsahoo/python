{
 "cells": [
  {
   "cell_type": "code",
   "execution_count": 3,
   "metadata": {},
   "outputs": [
    {
     "name": "stdout",
     "output_type": "stream",
     "text": [
      "c:\\Users\\heman\\OneDrive\\Desktop\\python\\PYTHON UDEMY JANGO FLASK\n",
      "b'c:\\\\Users\\\\heman\\\\OneDrive\\\\Desktop\\\\python\\\\PYTHON UDEMY JANGO FLASK'\n"
     ]
    }
   ],
   "source": [
    "import os\n",
    "print(os.getcwd())# returns the present working directory \n",
    "print(os.getcwdb())# returns the present working directory  as a byte object\n"
   ]
  },
  {
   "cell_type": "code",
   "execution_count": null,
   "metadata": {},
   "outputs": [
    {
     "name": "stdout",
     "output_type": "stream",
     "text": [
      "['.net', 'application', 'code', 'daily task update.txt', 'delta code and project', 'desktop.ini', 'document', 'download.png', 'Hemant Kumar - Chrome.lnk', 'Hemanta Kumar Sahoo cover letter.docx', 'Hemanta Kumar Sahoo-Resume.pdf', 'hemanta kumar.pdf', 'HEMANTA SALARY SLIP april.pdf.docx', 'hemantanew resume.docx', 'New folder (2)', 'New Text Document.txt', 'python', 'resume makethis.docx', 'Resume.docx', 'video all', 'Visual Studio Code.lnk', 'WhatsApp Image 2024-12-14 at 17.58.18_a8430f28.jpg', 'WhatsApp.lnk', '~$mantanew resume.docx']\n"
     ]
    }
   ],
   "source": [
    "os.chdir('c:\\\\Users\\\\heman\\\\OneDrive\\\\Desktop') #use to change directory\n",
    "print(os.listdir())# all files and sub directoryies inside a directory"
   ]
  },
  {
   "cell_type": "code",
   "execution_count": 26,
   "metadata": {},
   "outputs": [],
   "source": [
    "# use to make new directory\n",
    "os.mkdir('test3')\n",
    "# create a folder in the current working directory"
   ]
  },
  {
   "cell_type": "code",
   "execution_count": 27,
   "metadata": {},
   "outputs": [],
   "source": [
    "# use to rename directory\n",
    "os.rename('test3','new_test' )\n",
    "# folder name changed to new test"
   ]
  },
  {
   "cell_type": "code",
   "execution_count": 20,
   "metadata": {},
   "outputs": [
    {
     "name": "stdout",
     "output_type": "stream",
     "text": [
      "b'c:\\\\Users\\\\heman\\\\OneDrive\\\\Desktop'\n"
     ]
    }
   ],
   "source": [
    "print(os.getcwdb())"
   ]
  },
  {
   "cell_type": "code",
   "execution_count": null,
   "metadata": {},
   "outputs": [],
   "source": [
    "# removeing  a file and directory\n",
    "os.remove('c:\\\\Users\\\\heman\\\\OneDrive\\\\Desktop\\demo.txt')# for file remove\n",
    "# to remove directory\n",
    "os.rmdir('test')"
   ]
  },
  {
   "cell_type": "code",
   "execution_count": null,
   "metadata": {},
   "outputs": [],
   "source": [
    "os.chdir"
   ]
  },
  {
   "cell_type": "code",
   "execution_count": null,
   "metadata": {},
   "outputs": [],
   "source": []
  }
 ],
 "metadata": {
  "kernelspec": {
   "display_name": "Python 3",
   "language": "python",
   "name": "python3"
  },
  "language_info": {
   "codemirror_mode": {
    "name": "ipython",
    "version": 3
   },
   "file_extension": ".py",
   "mimetype": "text/x-python",
   "name": "python",
   "nbconvert_exporter": "python",
   "pygments_lexer": "ipython3",
   "version": "3.11.4"
  }
 },
 "nbformat": 4,
 "nbformat_minor": 2
}
