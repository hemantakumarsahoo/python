{
 "cells": [
  {
   "cell_type": "code",
   "execution_count": 3,
   "metadata": {},
   "outputs": [],
   "source": [
    "# multiple inherritance\n",
    "class Base1:\n",
    "    pass\n",
    "class Base2:\n",
    "    pass\n",
    "class MultiDerived(Base1,Base2):\n",
    "    pass"
   ]
  },
  {
   "cell_type": "code",
   "execution_count": 4,
   "metadata": {},
   "outputs": [],
   "source": [
    "# multiple inheritance\n",
    "class Base1:\n",
    "    def funcBase1(self):\n",
    "        print(\"function base1() is executed.....\")\n",
    "class Base2:\n",
    "    def funcBase2(self):\n",
    "        print(\"function base2() is executed.....\")\n",
    "class Base3:\n",
    "    def funcBase3(self):\n",
    "        print(\"function base3() is executed.....\")\n",
    "class MultiDerived(Base1,Base2,Base3):  \n",
    "    def funcMultiDerived(self):\n",
    "        print(\"Function multiderid () is executing...\")   "
   ]
  },
  {
   "cell_type": "code",
   "execution_count": 5,
   "metadata": {},
   "outputs": [
    {
     "name": "stdout",
     "output_type": "stream",
     "text": [
      "function base1() is executed.....\n",
      "function base2() is executed.....\n",
      "function base3() is executed.....\n",
      "Function multiderid () is executing...\n"
     ]
    }
   ],
   "source": [
    "md1=MultiDerived()\n",
    "md1.funcBase1()\n",
    "md1.funcBase2()\n",
    "md1.funcBase3()\n",
    "md1.funcMultiDerived()"
   ]
  },
  {
   "cell_type": "code",
   "execution_count": null,
   "metadata": {},
   "outputs": [],
   "source": []
  }
 ],
 "metadata": {
  "kernelspec": {
   "display_name": "Python 3",
   "language": "python",
   "name": "python3"
  },
  "language_info": {
   "codemirror_mode": {
    "name": "ipython",
    "version": 3
   },
   "file_extension": ".py",
   "mimetype": "text/x-python",
   "name": "python",
   "nbconvert_exporter": "python",
   "pygments_lexer": "ipython3",
   "version": "3.11.4"
  }
 },
 "nbformat": 4,
 "nbformat_minor": 2
}
