{
 "cells": [
  {
   "cell_type": "code",
   "execution_count": null,
   "metadata": {},
   "outputs": [
    {
     "name": "stdout",
     "output_type": "stream",
     "text": [
      "global x= global\n",
      "globalglobal\n",
      "local\n",
      "global x= globalglobal\n"
     ]
    }
   ],
   "source": [
    "# global and local variablre with different name\n",
    "x='global'\n",
    "def func1():\n",
    "    global x\n",
    "    y=\"local\"\n",
    "    x=x*2\n",
    "    print(x)\n",
    "    print(y)\n",
    "\n",
    "print(\"global x is \",x)# print the               above x value =global\n",
    "func1()#execute the function\n",
    "print(\"global x=\",x)\n",
    "#after execute the function the x value is changed so x= globalglobal 2 times print"
   ]
  },
  {
   "cell_type": "code",
   "execution_count": 3,
   "metadata": {},
   "outputs": [
    {
     "name": "stdout",
     "output_type": "stream",
     "text": [
      "global a= 5\n",
      "local a= 10\n",
      "global a= 5\n"
     ]
    }
   ],
   "source": [
    "# global and local variablre with same name\n",
    "a=5\n",
    "def func2():\n",
    "    a=10\n",
    "    print(\"local a=\",a)\n",
    "\n",
    "print(\"global a=\",a)\n",
    "func2()\n",
    "print(\"global a=\",a)"
   ]
  },
  {
   "cell_type": "code",
   "execution_count": null,
   "metadata": {},
   "outputs": [
    {
     "name": "stdout",
     "output_type": "stream",
     "text": [
      "local\n",
      "inner: nonlocal\n",
      "outer: nonlocal\n"
     ]
    }
   ],
   "source": [
    "# creating and using non -local variable\n",
    "def outer():\n",
    "    v=\"local\"\n",
    "    def inner():\n",
    "        nonlocal v #nonlocal variable is used in nested function\n",
    "        v=\"nonlocal\"\n",
    "        print(\"inner:\",v)\n",
    "\n",
    "  \n",
    "    inner()\n",
    "    print(\"outer:\",v)\n",
    "\n",
    "\n",
    "outer()"
   ]
  },
  {
   "cell_type": "markdown",
   "metadata": {},
   "source": [
    "python global keyword\n"
   ]
  },
  {
   "cell_type": "code",
   "execution_count": 18,
   "metadata": {},
   "outputs": [
    {
     "name": "stdout",
     "output_type": "stream",
     "text": [
      "before calling function4: 100\n",
      "after calling function4: 100\n",
      "x in main: 25\n"
     ]
    }
   ],
   "source": [
    "def func3():\n",
    "    x=100\n",
    "    def func4():\n",
    "        global x  #global keyword is used to modify a global variable\n",
    "\n",
    "        x=25\n",
    "    print(\"before calling function4:\",x)\n",
    "    func4()# it will print the same value \n",
    "\n",
    "    print(\"after calling function4:\",x)\n",
    "    # after the outside of the function call the \n",
    "    # the value of global will be changed\n",
    "\n",
    "func3() \n",
    "\n",
    "print(\"x in main:\",x)\n"
   ]
  },
  {
   "cell_type": "code",
   "execution_count": null,
   "metadata": {},
   "outputs": [],
   "source": []
  }
 ],
 "metadata": {
  "kernelspec": {
   "display_name": "Python 3",
   "language": "python",
   "name": "python3"
  },
  "language_info": {
   "codemirror_mode": {
    "name": "ipython",
    "version": 3
   },
   "file_extension": ".py",
   "mimetype": "text/x-python",
   "name": "python",
   "nbconvert_exporter": "python",
   "pygments_lexer": "ipython3",
   "version": "3.11.4"
  }
 },
 "nbformat": 4,
 "nbformat_minor": 2
}
