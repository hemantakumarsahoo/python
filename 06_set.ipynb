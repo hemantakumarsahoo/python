{
 "cells": [
  {
   "cell_type": "code",
   "execution_count": 1,
   "metadata": {},
   "outputs": [
    {
     "name": "stdout",
     "output_type": "stream",
     "text": [
      "{33, 66, 22, 55, 11, 44, 77}\n",
      "{'ram', (21, 2, 33), 101}\n",
      "{33, 2, 21, 22, 44}\n"
     ]
    }
   ],
   "source": [
    "# creating sets\n",
    "# setss of integer\n",
    "my_set1={11,33,66,55,44,22,77}\n",
    "print(my_set1)\n",
    "\n",
    "# set of mixed datatypes\n",
    "my_set2={101,\"ram\",(21,2,33)}\n",
    "print(my_set2)\n",
    "# duplicate  value are not allowed\n",
    "my_set3={21,2,33,44,33,22}\n",
    "print(my_set3)\n"
   ]
  },
  {
   "cell_type": "code",
   "execution_count": 4,
   "metadata": {},
   "outputs": [
    {
     "name": "stdout",
     "output_type": "stream",
     "text": [
      "{1, 2, 3, 4}\n",
      "<class 'set'>\n",
      "[33, 22, 55, 11, 44]\n",
      "<class 'list'>\n"
     ]
    }
   ],
   "source": [
    "# set cannot have mutable items\n",
    "# my_set4={1,2,[3,4]}#type error shows TypeError: unhashable type: 'list' because\n",
    "# list is mutable so\n",
    "# we can make set from a list\n",
    "my_set5=set([1,2,3,4])\n",
    "print(my_set5)\n",
    "print(type(my_set5))\n",
    "# we can make list from  a set\n",
    "my_list1=list({11,22,33,44,55})\n",
    "print(my_list1)\n",
    "print(type(my_list1))\n",
    "\n",
    "\n"
   ]
  },
  {
   "cell_type": "code",
   "execution_count": 4,
   "metadata": {},
   "outputs": [
    {
     "name": "stdout",
     "output_type": "stream",
     "text": [
      "{33, 66, 11, 44, 77, 22, 55, 88}\n",
      "{33, 66, 99, 11, 44, 77, 22, 55, 88}\n",
      "{33, 66, 99, 11, 44, 77, 333, 111, 22, 55, 88, 222}\n",
      "{1, 2, 3, 4, 5, 11, 22, 33, 44, 55, 66, 77, 333, 88, 222, 99, 100, 102, 111}\n"
     ]
    }
   ],
   "source": [
    "# operation on sets\n",
    "myset6={11,22,33,44,55,66,77,88}\n",
    "print(myset6)\n",
    "# set object doesnot support indexing\n",
    "# myset6[0] #TypeError: 'set' object is not subscriptable is shown\n",
    "\n",
    "# add an element\n",
    "myset6.add(99)# it add  99 in any index because it not support indexing\n",
    "print(myset6)\n",
    "# add multiple elements using update ()\n",
    "myset6.update([111,222,333])\n",
    "print(myset6)\n",
    "# add list and set\n",
    "myset6.update([100,102],[1,2,3,4,5])\n",
    "print(myset6)\n",
    "\n"
   ]
  },
  {
   "cell_type": "code",
   "execution_count": 8,
   "metadata": {},
   "outputs": [
    {
     "name": "stdout",
     "output_type": "stream",
     "text": [
      "{33, 66, 11, 44, 77, 22, 55, 88}\n",
      "{33, 66, 11, 44, 77, 22, 55, 88}\n",
      "{33, 66, 11, 44, 77, 22, 55, 88}\n",
      "{33, 66, 11, 77, 22, 55, 88}\n",
      "{33, 66, 11, 77, 22, 88}\n"
     ]
    }
   ],
   "source": [
    "#remove and discard\n",
    "#  initialize my-set\n",
    "myset7={11,22,33,44,55,66,77,88}\n",
    "print(myset7)\n",
    "# discard an element which is not present is not showing error\n",
    "myset7.discard(4)\n",
    "print(myset7)\n",
    "# remove an element which is not present  error raised\n",
    "# myset7.remove(4)#KeyError: 4\n",
    "print(myset7)\n",
    "# discard an element\n",
    "myset7.discard(44)\n",
    "print(myset7)\n",
    "myset7.remove(55)\n",
    "print(myset7)\n",
    "\n"
   ]
  },
  {
   "cell_type": "code",
   "execution_count": 12,
   "metadata": {},
   "outputs": [
    {
     "name": "stdout",
     "output_type": "stream",
     "text": [
      "33\n",
      "66\n",
      "{11, 44, 77, 22, 55, 88}\n",
      "set()\n"
     ]
    }
   ],
   "source": [
    "# using pop method\n",
    "myset8={11,22,33,44,55,66,77,88}\n",
    "print(myset8.pop())#dele te a random element from the set\n",
    "# pop another element\n",
    "print(myset8.pop())\n",
    "print(myset8)\n",
    "# clear my set\n",
    "myset8.clear()\n",
    "print(myset8)\n",
    "\n"
   ]
  },
  {
   "cell_type": "markdown",
   "metadata": {},
   "source": [
    "# "
   ]
  },
  {
   "cell_type": "code",
   "execution_count": 20,
   "metadata": {},
   "outputs": [
    {
     "name": "stdout",
     "output_type": "stream",
     "text": [
      "-----------------\n",
      "{0, 1, 2, 3, 4, 5, 6, 7, 8, 9}\n",
      "{0, 1, 2, 3, 4, 5, 6, 7, 8, 9}\n",
      "{0, 1, 2, 3, 4, 5, 6, 7, 8, 9}\n",
      "{0, 1, 2, 3, 4, 5, 6, 7, 8, 9}\n",
      "-----------------\n",
      "{4, 5}\n",
      "{4, 5}\n",
      "{4, 5}\n",
      "{4, 5}\n",
      "-----------------\n",
      "myset10-myset11 {0, 1, 2, 3}\n",
      "myset11-myset10 {8, 9, 6, 7}\n",
      "{0, 1, 2, 3}\n",
      "{8, 9, 6, 7}\n",
      "-----------------\n",
      "myset10^myset11 {0, 1, 2, 3, 6, 7, 8, 9}\n",
      "myset11^myset10 {0, 1, 2, 3, 6, 7, 8, 9}\n",
      "{0, 1, 2, 3, 6, 7, 8, 9}\n",
      "{0, 1, 2, 3, 6, 7, 8, 9}\n"
     ]
    }
   ],
   "source": [
    "# set operation union\n",
    "myset10={0,1,2,3,4,5}\n",
    "myset11={4,5,6,7,8,9}\n",
    "# use | operator for union\n",
    "print(\"-----------------\")\n",
    "print(myset10|myset11)\n",
    "print(myset11|myset10)\n",
    "print(myset10.union (myset11))\n",
    "print(myset11.union (myset10))\n",
    "# intersection on set operation\n",
    "print(\"-----------------\")\n",
    "print(myset10&myset11)\n",
    "print(myset11&myset10)\n",
    "print(myset10.intersection (myset11))\n",
    "print(myset11.intersection (myset10))\n",
    "# set difference operation\n",
    "print(\"-----------------\")\n",
    "print(f\"myset10-myset11\",myset10-myset11)\n",
    "print(f\"myset11-myset10\",myset11-myset10)\n",
    "print(myset10.difference (myset11))\n",
    "print(myset11.difference (myset10))\n",
    "\n",
    "# symmetric difference\n",
    "print(\"-----------------\")\n",
    "print(f\"myset10^myset11\",myset10^myset11)\n",
    "print(f\"myset11^myset10\",myset11^myset10)\n",
    "print(myset10.symmetric_difference(myset11))\n",
    "print(myset11.symmetric_difference (myset10))\n"
   ]
  },
  {
   "cell_type": "code",
   "execution_count": 21,
   "metadata": {},
   "outputs": [
    {
     "name": "stdout",
     "output_type": "stream",
     "text": [
      "True\n",
      "False\n",
      "False\n",
      "True\n"
     ]
    }
   ],
   "source": [
    "# set membership\n",
    "myset12={0,1,2,3,4,5,6,7,8,9}\n",
    "print(2 in myset12)\n",
    "print(11 in myset12)\n",
    "print(2 not in  myset12)\n",
    "print(11 not  in myset12)\n"
   ]
  },
  {
   "cell_type": "code",
   "execution_count": null,
   "metadata": {},
   "outputs": [
    {
     "name": "stdout",
     "output_type": "stream",
     "text": [
      "o\n",
      "m\n",
      "c\n",
      "w\n",
      "e\n",
      "l\n",
      " \n"
     ]
    }
   ],
   "source": [
    "# iterating through set\n",
    "for letter in set(\"welcome\"):\n",
    "    print(letter)\n",
    "    # the print the element is not in order"
   ]
  },
  {
   "cell_type": "code",
   "execution_count": 25,
   "metadata": {},
   "outputs": [
    {
     "name": "stdout",
     "output_type": "stream",
     "text": [
      "13\n",
      "0\n",
      "70\n",
      "[0, 1, 2, 3, 4, 5, 6, 7, 8, 9, 13, 50, 70]\n"
     ]
    }
   ],
   "source": [
    "# built _in function with set\n",
    "myset13={0,1,2,3,4,5,6,7,8,9,70,13,50,}\n",
    "print(len(myset13))\n",
    "print(min(myset13))\n",
    "print(max(myset13))\n",
    "print(sorted(myset13))"
   ]
  },
  {
   "cell_type": "code",
   "execution_count": null,
   "metadata": {},
   "outputs": [
    {
     "name": "stdout",
     "output_type": "stream",
     "text": [
      "frozenset({1, 2, 3, 4})\n",
      "frozenset({3, 4, 5, 6})\n",
      "frozenset({1, 2})\n",
      "frozenset({1, 2, 3, 4, 5, 6})\n",
      "frozenset({1, 2, 5, 6})\n"
     ]
    },
    {
     "ename": "AttributeError",
     "evalue": "'frozenset' object has no attribute 'add'",
     "output_type": "error",
     "traceback": [
      "\u001b[1;31m---------------------------------------------------------------------------\u001b[0m",
      "\u001b[1;31mAttributeError\u001b[0m                            Traceback (most recent call last)",
      "Cell \u001b[1;32mIn[28], line 13\u001b[0m\n\u001b[0;32m     10\u001b[0m \u001b[38;5;28mprint\u001b[39m(myset14\u001b[38;5;241m.\u001b[39munion(myset15))\n\u001b[0;32m     11\u001b[0m \u001b[38;5;28mprint\u001b[39m(myset14\u001b[38;5;241m.\u001b[39msymmetric_difference(myset15))\n\u001b[1;32m---> 13\u001b[0m \u001b[43mmyset14\u001b[49m\u001b[38;5;241;43m.\u001b[39;49m\u001b[43madd\u001b[49m(\u001b[38;5;241m10\u001b[39m)\n",
      "\u001b[1;31mAttributeError\u001b[0m: 'frozenset' object has no attribute 'add'"
     ]
    }
   ],
   "source": [
    "#python frozen set\n",
    "#  frozenset is a new class that has the characterstics\n",
    "# of a set ,but its element cannot be changed once assigned\n",
    "# while tuples are immutable lists,frozensets are immutable sets\n",
    "myset14=frozenset([1,2,3,4])\n",
    "myset15=frozenset([3,4,5,6])\n",
    "print(myset14)\n",
    "print(myset15)\n",
    "print(myset14.difference(myset15))\n",
    "print(myset14.union(myset15))\n",
    "print(myset14.symmetric_difference(myset15))\n",
    "\n",
    "myset14.add(10)#AttributeError: 'frozenset' object has no attribute 'add'\n",
    "\n"
   ]
  }
 ],
 "metadata": {
  "kernelspec": {
   "display_name": "Python 3",
   "language": "python",
   "name": "python3"
  },
  "language_info": {
   "codemirror_mode": {
    "name": "ipython",
    "version": 3
   },
   "file_extension": ".py",
   "mimetype": "text/x-python",
   "name": "python",
   "nbconvert_exporter": "python",
   "pygments_lexer": "ipython3",
   "version": "3.11.4"
  }
 },
 "nbformat": 4,
 "nbformat_minor": 2
}
