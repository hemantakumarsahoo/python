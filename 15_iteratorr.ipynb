{
 "cells": [
  {
   "cell_type": "code",
   "execution_count": null,
   "metadata": {},
   "outputs": [
    {
     "name": "stdout",
     "output_type": "stream",
     "text": [
      "44\n",
      "77\n",
      "11\n",
      "33\n"
     ]
    },
    {
     "ename": "StopIteration",
     "evalue": "",
     "output_type": "error",
     "traceback": [
      "\u001b[1;31m---------------------------------------------------------------------------\u001b[0m",
      "\u001b[1;31mStopIteration\u001b[0m                             Traceback (most recent call last)",
      "Cell \u001b[1;32mIn[6], line 16\u001b[0m\n\u001b[0;32m     14\u001b[0m \u001b[38;5;66;03m# print 33\u001b[39;00m\n\u001b[0;32m     15\u001b[0m \u001b[38;5;28mprint\u001b[39m(our_iter\u001b[38;5;241m.\u001b[39m\u001b[38;5;21m__next__\u001b[39m())\n\u001b[1;32m---> 16\u001b[0m \u001b[38;5;28mprint\u001b[39m(\u001b[43mour_iter\u001b[49m\u001b[38;5;241;43m.\u001b[39;49m\u001b[38;5;21;43m__next__\u001b[39;49m\u001b[43m(\u001b[49m\u001b[43m)\u001b[49m)\n\u001b[0;32m     17\u001b[0m \u001b[38;5;66;03m# This will raise error ,no items left\u001b[39;00m\n\u001b[0;32m     18\u001b[0m \u001b[38;5;66;03m# next(our_iter)\u001b[39;00m\n",
      "\u001b[1;31mStopIteration\u001b[0m: "
     ]
    }
   ],
   "source": [
    "# defining a list\n",
    "our_list=[44,77,11,33]\n",
    "# get an iteraor using iter()method\n",
    "our_iter=iter(our_list)\n",
    "# iterator through it using next()method\n",
    "# print 44\n",
    "print(next(our_iter))\n",
    "# print 77\n",
    "print(next(our_iter))\n",
    "# next(obj) is same as calling obj.__next()__method\n",
    "\n",
    "# print 11\n",
    "print(our_iter.__next__())\n",
    "# print 33\n",
    "print(our_iter.__next__())\n",
    "# print(our_iter.__next__())\n",
    "# This will raise error ,no items left\n",
    "# next(our_iter)\n"
   ]
  },
  {
   "cell_type": "code",
   "execution_count": 15,
   "metadata": {},
   "outputs": [
    {
     "name": "stdout",
     "output_type": "stream",
     "text": [
      " Class to implement an \n",
      "    iterator of power of two\n",
      "    \n",
      "1\n",
      "2\n",
      "4\n"
     ]
    }
   ],
   "source": [
    "# Crreating a custom iterrator\n",
    "class pow_of_Two:\n",
    "    \"\"\" Class to implement an \n",
    "    iterator of power of two\n",
    "    \"\"\"\n",
    "    def __init__(self,max=0):\n",
    "        self.max = max\n",
    "    def __iter__(self):\n",
    "        self.n=0\n",
    "        return self\n",
    "    def __next__(self):\n",
    "        if self.n<=self.max:\n",
    "            result =2**self.n\n",
    "            self.n+=1\n",
    "            return result\n",
    "        else:\n",
    "            raise StopIteration\n",
    "print(pow_of_Two.__doc__)\n",
    "a=pow_of_Two(4)\n",
    "i=iter(a)\n",
    "\n",
    "print(next(i))\n",
    "print(i.__next__())\n",
    "print(next(i))"
   ]
  },
  {
   "cell_type": "code",
   "execution_count": 14,
   "metadata": {},
   "outputs": [
    {
     "name": "stdout",
     "output_type": "stream",
     "text": [
      "1\n",
      "3\n",
      "5\n",
      "7\n"
     ]
    }
   ],
   "source": [
    "# Creating a infinite custom itterator\n",
    "class Infinite_Iter:\n",
    "    \"\"\" Infinite iterator to \n",
    "    return all odd numbers\"\"\"\n",
    "    def __iter__(self):\n",
    "        self.num=1\n",
    "        return self\n",
    "    def __next__(self):\n",
    "        num=self.num\n",
    "        self.num+=2\n",
    "        return num\n",
    "i=Infinite_Iter()\n",
    "a=iter(i)\n",
    "print(next(a))\n",
    "print(next(a))\n",
    "print(next(a))\n",
    "print(next(a))\n"
   ]
  }
 ],
 "metadata": {
  "kernelspec": {
   "display_name": "Python 3",
   "language": "python",
   "name": "python3"
  },
  "language_info": {
   "codemirror_mode": {
    "name": "ipython",
    "version": 3
   },
   "file_extension": ".py",
   "mimetype": "text/x-python",
   "name": "python",
   "nbconvert_exporter": "python",
   "pygments_lexer": "ipython3",
   "version": "3.11.4"
  }
 },
 "nbformat": 4,
 "nbformat_minor": 2
}
