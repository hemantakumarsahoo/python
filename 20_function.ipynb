{
 "cells": [
  {
   "cell_type": "code",
   "execution_count": 5,
   "metadata": {},
   "outputs": [
    {
     "name": "stdout",
     "output_type": "stream",
     "text": [
      "hello i love to code in python\n",
      " hello i love code in python \n",
      " this is  a \n",
      "    multiline\n",
      "     text\n"
     ]
    }
   ],
   "source": [
    "def hello(): #  function without a return statement\n",
    "    print(\"hello i love to code in python\")\n",
    "def hello2():#  function with a return statement\n",
    "    ''' this is  a \n",
    "    multiline\n",
    "     text'''\n",
    "    return \" hello i love code in python \"\n",
    "\n",
    "# return commands returns back the control to the caller\n",
    "# mainly used to return a value to the caller of the function\n",
    "hello()\n",
    "print(hello2())\n",
    "# if i ant to access the doc string\n",
    "print(hello2.__doc__)"
   ]
  },
  {
   "cell_type": "code",
   "execution_count": null,
   "metadata": {},
   "outputs": [],
   "source": [
    "def myaddition(x,y):\n",
    "    print(\"performing the addition opeation...\")\n",
    "    return(x+y)\n",
    "def mysubstration(x,y):\n",
    "    print(\"performing thesubstattion opeation...\")\n",
    "    return(x-y)\n",
    "def mymultiplication(x,y):\n",
    "    print(\"performing the multiplication opeation...\")\n",
    "    return(x*y)\n",
    "def mydivision(x,y):\n",
    "    print(\"performing the divisiontion opeation...\")\n",
    "    return(x/y)\n",
    "def mymenu():\n",
    "    print(\"main menu....\")\n",
    "    print(\"1>addition opeation....\")\n",
    "    print(\"2>substration opeation....\")\n",
    "    print(\"3>multiplication opeation....\")\n",
    "    print(\"4>division opeation....\")\n",
    "    ch=int(input(\"plese enter you choice\"))\n",
    "    return ch\n",
    "def calculation():\n",
    "    ch=mymenu()\n",
    "    num1=int(input(\"plese enter the first number....\"))\n",
    "    num2=int(input(\"plese enter the second number...\"))\n",
    "    if ch==1:\n",
    "        result=myaddition(num1,num2)\n",
    "    \n",
    "    elif ch==2:\n",
    "        result=mysubstration(num1,num2)\n",
    "    elif ch==3:\n",
    "        result=mymultiplication(num1,num2)\n",
    "    elif ch==4:\n",
    "        result=mydivision(num1,num2)"
   ]
  }
 ],
 "metadata": {
  "kernelspec": {
   "display_name": "Python 3",
   "language": "python",
   "name": "python3"
  },
  "language_info": {
   "codemirror_mode": {
    "name": "ipython",
    "version": 3
   },
   "file_extension": ".py",
   "mimetype": "text/x-python",
   "name": "python",
   "nbconvert_exporter": "python",
   "pygments_lexer": "ipython3",
   "version": "3.11.4"
  }
 },
 "nbformat": 4,
 "nbformat_minor": 2
}
